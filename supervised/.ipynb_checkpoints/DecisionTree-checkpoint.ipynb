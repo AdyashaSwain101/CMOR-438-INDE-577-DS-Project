{
 "cells": [
  {
   "cell_type": "markdown",
   "id": "5b9645b6-f359-4e90-94f9-07493c8a6322",
   "metadata": {},
   "source": [
    "## Decision tree"
   ]
  },
  {
   "cell_type": "markdown",
   "id": "fcc75852-e162-42b9-8c84-01dcec59555a",
   "metadata": {},
   "source": [
    "#### A supervised learning algorithm that splits data into branches based on feature values, creating a tree-like structure to make classification or regression decisions.\n",
    "![dt](https://www.ibm.com/content/dam/connectedassets-adobe-cms/worldwide-content/cdp/cf/ul/g/df/de/Decision-Tree.png)"
   ]
  },
  {
   "cell_type": "code",
   "execution_count": null,
   "id": "aeb27758-fcd3-4a94-a240-4ac1da0ffcc8",
   "metadata": {},
   "outputs": [],
   "source": []
  }
 ],
 "metadata": {
  "kernelspec": {
   "display_name": "Python 3 (ipykernel)",
   "language": "python",
   "name": "python3"
  },
  "language_info": {
   "codemirror_mode": {
    "name": "ipython",
    "version": 3
   },
   "file_extension": ".py",
   "mimetype": "text/x-python",
   "name": "python",
   "nbconvert_exporter": "python",
   "pygments_lexer": "ipython3",
   "version": "3.9.6"
  }
 },
 "nbformat": 4,
 "nbformat_minor": 5
}
